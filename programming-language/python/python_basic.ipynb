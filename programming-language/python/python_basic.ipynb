{
 "cells": [
  {
   "cell_type": "markdown",
   "metadata": {},
   "source": [
    "### python内置对象"
   ]
  },
  {
   "cell_type": "markdown",
   "metadata": {},
   "source": [
    "#### 获取所有内置对象"
   ]
  },
  {
   "cell_type": "code",
   "execution_count": null,
   "metadata": {},
   "outputs": [],
   "source": [
    "import builtins, types\n",
    "\n",
    "# 所有内置类型\n",
    "print([key for key, val in builtins.__dict__.items() if isinstance(val, type)])\n",
    "\n",
    "# 所有内置函数\n",
    "print([key for key, val in builtins.__dict__.items() if isinstance(val, types.BuiltinFunctionType)])\n",
    "\n",
    "# 其他内置对象\n",
    "print([key for key, val in builtins.__dict__.items() if not isinstance(val, (type, types.BuiltinFunctionType, types.FunctionType))])"
   ]
  },
  {
   "cell_type": "markdown",
   "metadata": {},
   "source": [
    "#### 输出python内置类型的属性和方法"
   ]
  },
  {
   "cell_type": "code",
   "execution_count": null,
   "metadata": {},
   "outputs": [],
   "source": [
    "def print_props(cls: type):\n",
    "    \"\"\"\n",
    "    按类别输出类的属性\n",
    "    \"\"\"\n",
    "    all_props = {}\n",
    "    for k, v in cls.__dict__.items():\n",
    "        all_props.setdefault(str(type(v)), []).append(k)\n",
    "\n",
    "    for t, props in all_props.items():\n",
    "        print(t, props)\n",
    "\n",
    "# 输出各种python类型所支持的属性和方法\n",
    "t = [bool, int, str, list, tuple, dict, set]\n",
    "for cls in t:\n",
    "    print(f'{\"-\"*40}\\nproperties of {str(cls)}')\n",
    "    print_props(cls)"
   ]
  },
  {
   "cell_type": "markdown",
   "metadata": {},
   "source": [
    "### 基本类型及其操作\n",
    "\n",
    "python中的基本数据类型有：\n",
    "\n",
    "* 布尔类型。其对应的内置类型为 bool。\n",
    "* 数值类型。其对应的内置类型为 int 或 float。\n",
    "* 字符串类型。其对应的内置类型为 str。"
   ]
  },
  {
   "cell_type": "code",
   "execution_count": null,
   "metadata": {},
   "outputs": [],
   "source": [
    "# 三种格式化字符串的方法\n",
    "print('Hello %s' % 'World')\n",
    "s = 'World'\n",
    "print(f'Hello {s}')\n",
    "print('Hello {}'.format('World')) # str.format\n",
    "print('{0} {0} {0}!'.format('go'))"
   ]
  },
  {
   "cell_type": "markdown",
   "metadata": {},
   "source": [
    "### 容器类型及其操作\n",
    "\n",
    "python中的容器类型有：\n",
    "\n",
    "* list\n",
    "* tuple \n",
    "* dict\n",
    "* set"
   ]
  },
  {
   "cell_type": "code",
   "execution_count": null,
   "metadata": {},
   "outputs": [],
   "source": [
    "a = [i for i in range(10)]\n",
    "t = tuple(i for i in range(10))\n",
    "d = {'one': 1, 'two': 2}\n",
    "s = set(a)\n",
    "\n",
    "a += [10]\n",
    "d.update(three=3, four=4)\n",
    "print(1 in s, 10 in s)"
   ]
  }
 ],
 "metadata": {
  "kernelspec": {
   "display_name": "base",
   "language": "python",
   "name": "python3"
  },
  "language_info": {
   "codemirror_mode": {
    "name": "ipython",
    "version": 3
   },
   "file_extension": ".py",
   "mimetype": "text/x-python",
   "name": "python",
   "nbconvert_exporter": "python",
   "pygments_lexer": "ipython3",
   "version": "3.11.5"
  }
 },
 "nbformat": 4,
 "nbformat_minor": 2
}
