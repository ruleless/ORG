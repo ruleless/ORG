{
 "cells": [
  {
   "cell_type": "markdown",
   "metadata": {},
   "source": [
    "### python内置对象"
   ]
  },
  {
   "cell_type": "code",
   "execution_count": null,
   "metadata": {},
   "outputs": [],
   "source": [
    "import builtins, types\n",
    "\n",
    "# 所有内置类型\n",
    "print([key for key, val in builtins.__dict__.items() if isinstance(val, type)])\n",
    "\n",
    "# 所有内置函数\n",
    "print([key for key, val in builtins.__dict__.items() if isinstance(val, types.BuiltinFunctionType)])\n",
    "\n",
    "# 其他内置对象\n",
    "print([key for key, val in builtins.__dict__.items() if not isinstance(val, (type, types.BuiltinFunctionType, types.FunctionType))])"
   ]
  },
  {
   "cell_type": "markdown",
   "metadata": {},
   "source": [
    "### 基本类型及其操作"
   ]
  },
  {
   "cell_type": "code",
   "execution_count": null,
   "metadata": {},
   "outputs": [],
   "source": [
    "# 三种格式化字符串的方法\n",
    "print('Hello %s' % 'World')\n",
    "s = 'World'\n",
    "print(f'Hello {s}')\n",
    "print('Hello {}'.format('World')) # str.format\n",
    "print('{0} {0} {0}!'.format('go'))"
   ]
  }
 ],
 "metadata": {
  "kernelspec": {
   "display_name": "base",
   "language": "python",
   "name": "python3"
  },
  "language_info": {
   "codemirror_mode": {
    "name": "ipython",
    "version": 3
   },
   "file_extension": ".py",
   "mimetype": "text/x-python",
   "name": "python",
   "nbconvert_exporter": "python",
   "pygments_lexer": "ipython3",
   "version": "3.11.5"
  }
 },
 "nbformat": 4,
 "nbformat_minor": 2
}
