{
 "cells": [
  {
   "cell_type": "markdown",
   "metadata": {},
   "source": [
    "### functools"
   ]
  },
  {
   "cell_type": "markdown",
   "metadata": {},
   "source": [
    "#### 输出functools的所有成员"
   ]
  },
  {
   "cell_type": "code",
   "execution_count": null,
   "metadata": {},
   "outputs": [],
   "source": [
    "import functools\n",
    "\n",
    "def print_props(obj: type):\n",
    "    all_props = {}\n",
    "    for k, v in obj.__dict__.items():\n",
    "        all_props.setdefault(str(type(v)), []).append(k)\n",
    "\n",
    "    for t, props in all_props.items():\n",
    "        print(t, props)\n",
    "\n",
    "# 输出functools的所有成员\n",
    "print_props(functools)"
   ]
  },
  {
   "cell_type": "markdown",
   "metadata": {},
   "source": [
    "#### functools.partiol"
   ]
  },
  {
   "cell_type": "code",
   "execution_count": null,
   "metadata": {},
   "outputs": [],
   "source": [
    "import functools\n",
    "\n",
    "def multiply(x, y): return x*y\n",
    "\n",
    "double = functools.partial(multiply, 2)\n",
    "print(double(19))"
   ]
  },
  {
   "cell_type": "markdown",
   "metadata": {},
   "source": [
    "#### functools.lru_cache"
   ]
  },
  {
   "cell_type": "code",
   "execution_count": null,
   "metadata": {},
   "outputs": [],
   "source": [
    "from functools import lru_cache\n",
    "\n",
    "users = {\n",
    "    \"zhangsan\": {\n",
    "        \"name\": \"zhangsan\",\n",
    "    },\n",
    "    \"lisi\": {\n",
    "        \"name\": \"lisi\",\n",
    "    },\n",
    "}\n",
    "\n",
    "@lru_cache(maxsize=10)\n",
    "def query_user(name):\n",
    "    print(f'query \"{name}\"')\n",
    "    return users.get(name, None)\n",
    "\n",
    "query_user('lisi')\n",
    "query_user('lisi')\n",
    "query_user('wangwu')\n",
    "query_user('wangwu')"
   ]
  }
 ],
 "metadata": {
  "kernelspec": {
   "display_name": "Python 3",
   "language": "python",
   "name": "python3"
  },
  "language_info": {
   "codemirror_mode": {
    "name": "ipython",
    "version": 3
   },
   "file_extension": ".py",
   "mimetype": "text/x-python",
   "name": "python",
   "nbconvert_exporter": "python",
   "pygments_lexer": "ipython3",
   "version": "3.11.5"
  }
 },
 "nbformat": 4,
 "nbformat_minor": 2
}
