{
 "cells": [
  {
   "cell_type": "markdown",
   "metadata": {},
   "source": [
    "## 数据准备\n",
    "\n",
    "首先，我们需要准备训练数据，我们有以下选择：\n",
    "\n",
    "1. 使用sklearn中的手写数字（8*8）；\n",
    "2. 使用 [tfds](https://github.com/tensorflow/datasets/tree/master) 中的手写数字(28*28) [mnist](https://www.tensorflow.org/datasets/catalog/mnist)。\n",
    "\n",
    "sklean 中的数字的分辨率比较差，人工识别可能都有困难；我们使用 tfds 中的 mnist 数据集。\n",
    "\n",
    "另外，tfds 使用手册可见 [TensorFlow Datasets](https://www.tensorflow.org/datasets/overview?hl=zh-cn)。"
   ]
  },
  {
   "cell_type": "code",
   "execution_count": null,
   "metadata": {},
   "outputs": [],
   "source": [
    "from sklearn import datasets\n",
    "from matplotlib import pyplot\n",
    "\n",
    "# sklearn中的手写数据集\n",
    "digits = datasets.load_digits()\n",
    "\n",
    "pyplot.gray()\n",
    "pyplot.matshow(digits.images[8])\n",
    "# pyplot.matshow(digits.images[16])\n",
    "pyplot.show()"
   ]
  },
  {
   "cell_type": "code",
   "execution_count": null,
   "metadata": {},
   "outputs": [],
   "source": [
    "import numpy as np\n",
    "import tensorflow as tf\n",
    "import tensorflow_datasets as tfds\n",
    "from matplotlib import pyplot as plt\n",
    "\n",
    "# tensorflow中的手写数据集\n",
    "mnist, info = tfds.load(\"mnist\", split=\"train\", shuffle_files=True, with_info=True)\n",
    "\n",
    "# 通过pyplot呈现\n",
    "# plt.gray()\n",
    "# for example in tfds.as_numpy(mnist.take(3)):\n",
    "#     print(example.keys())\n",
    "#     plt.matshow(example[\"image\"])\n",
    "\n",
    "# 通过pandas.DataFrame呈现\n",
    "# tfds.as_dataframe(mnist.take(5), info)\n",
    "\n",
    "# 调用tfds.show_examples呈现\n",
    "tfds.show_examples(mnist.take(2), info)"
   ]
  },
  {
   "cell_type": "markdown",
   "metadata": {},
   "source": [
    "## 通过深度学习实现手写数字识别\n",
    "\n",
    "### 通过keras API实现关于手写数字识别的深度学习\n",
    "\n",
    "主要步骤是：\n",
    "\n",
    "1. 通过 `keras.Sequential` 和 `keras.layers.Dense` 创建模型。需要指定模型的层数、每层的节点数以及每层的激活函数。\n",
    "2. 为模型指定损失函数和优化器。损失函数用于衡量模型预测值偏离实际值的程度，而优化器则用于实现训练过程。\n",
    "3. 利用训练数据对模型进行训练。"
   ]
  },
  {
   "cell_type": "code",
   "execution_count": null,
   "metadata": {},
   "outputs": [],
   "source": [
    "import numpy as np\n",
    "import tensorflow as tf\n",
    "from tensorflow import keras\n",
    "from matplotlib import pyplot as plt\n",
    "\n",
    "# 加载训练数据和测试数据\n",
    "(orig_train_images, train_labels), (orig_test_images, test_labels) = keras.datasets.mnist.load_data()\n",
    "xx = np.array([])\n",
    "assert(orig_train_images.shape == (60000, 28, 28))\n",
    "assert(train_labels.shape == (60000,))\n",
    "assert(orig_test_images.shape == (10000, 28, 28))\n",
    "assert(test_labels.shape == (10000,))\n",
    "train_images = orig_train_images.reshape(60000, 28*28)\n",
    "train_images = train_images.astype(\"float32\") / 255\n",
    "test_images = orig_test_images.reshape(10000, 28*28)\n",
    "test_images = test_images.astype(\"float32\") / 255\n",
    "\n",
    "# 构建深度学习模型\n",
    "model = keras.Sequential([\n",
    "    keras.layers.Dense(512, activation=\"relu\"),\n",
    "    keras.layers.Dense(10, activation=\"softmax\")\n",
    "])\n",
    "\n",
    "# 编译，即：为模型指定损失函数和优化器\n",
    "model.compile(optimizer=\"rmsprop\",\n",
    "              loss=\"sparse_categorical_crossentropy\",\n",
    "              metrics=[\"accuracy\"])\n",
    "\n",
    "# 训练\n",
    "model.fit(train_images[0:10000], train_labels[0:10000], epochs=5, batch_size=128)\n",
    "\n",
    "# 预测\n",
    "start_idx = np.random.randint(0, 10000-10)\n",
    "predictions_as_prop = model.predict(test_images[start_idx:start_idx+10])\n",
    "predictions = []\n",
    "for a in predictions_as_prop:\n",
    "    predictions.append(np.argmax(a))\n",
    "\n",
    "plt.gray()\n",
    "fig, axes = plt.subplots(2, 5)\n",
    "fig.set_size_inches(5*2.5, 2*2.5)\n",
    "for i in range(10):\n",
    "    axes[i//5, i%5].matshow(orig_test_images[start_idx+i])\n",
    "plt.show()\n",
    "\n",
    "print(\"%+12s:\"%\"predictions\", np.array(predictions))\n",
    "print(\"%+12s:\"%\"real\", test_labels[start_idx:start_idx+10])"
   ]
  },
  {
   "cell_type": "markdown",
   "metadata": {},
   "source": [
    "### 基于TensorFlow从头开始实现深度学习\n",
    "\n"
   ]
  },
  {
   "cell_type": "code",
   "execution_count": null,
   "metadata": {},
   "outputs": [],
   "source": [
    "from typing import Any\n",
    "import numpy as np\n",
    "import tensorflow as tf\n",
    "\n",
    "# 简单的层对象的实现\n",
    "class SimpleDense:\n",
    "    def __init__(self, input_size, output_size, activation) -> None:\n",
    "        self.activation = activation\n",
    "\n",
    "        # 通过随机值来初始化权重(weight)\n",
    "        initail_value = [[np.random.uniform(0., 1.) for j in range(output_size)] for i in range(input_size)]\n",
    "        self.W = tf.Variable(initail_value)\n",
    "\n",
    "        # 初始化偏置(bias)\n",
    "        self.b = tf.Variable(np.zeros((output_size,)))\n",
    "\n",
    "    def __call__(self, input: tf.Variable) -> tf.Variable:\n",
    "        return self.activation(np.dot(self.W, input) + self.b)\n",
    "\n",
    "d = SimpleDense(10, 4, tf.nn.softmax)\n",
    "print(d)"
   ]
  }
 ],
 "metadata": {
  "kernelspec": {
   "display_name": "Python 3",
   "language": "python",
   "name": "python3"
  },
  "language_info": {
   "codemirror_mode": {
    "name": "ipython",
    "version": 3
   },
   "file_extension": ".py",
   "mimetype": "text/x-python",
   "name": "python",
   "nbconvert_exporter": "python",
   "pygments_lexer": "ipython3",
   "version": "3.11.4"
  }
 },
 "nbformat": 4,
 "nbformat_minor": 2
}
