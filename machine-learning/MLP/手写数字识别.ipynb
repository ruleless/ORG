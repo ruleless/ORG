{
 "cells": [
  {
   "cell_type": "markdown",
   "metadata": {},
   "source": [
    "## 数据准备\n",
    "\n",
    "首先，我们需要准备训练数据，我们有以下选择：\n",
    "\n",
    "1. 使用sklearn中的手写数字（8*8）；\n",
    "2. 使用 [tfds](https://github.com/tensorflow/datasets/tree/master) 中的手写数字(28*28) [mnist](https://www.tensorflow.org/datasets/catalog/mnist)。\n",
    "\n",
    "sklean 中的数字的分辨率比较差，人工识别可能都有困难；我们使用 tfds 中的 mnist 数据集。"
   ]
  },
  {
   "cell_type": "code",
   "execution_count": null,
   "metadata": {},
   "outputs": [],
   "source": [
    "from sklearn import datasets\n",
    "from matplotlib import pyplot\n",
    "\n",
    "# sklearn中的手写数据集\n",
    "digits = datasets.load_digits()\n",
    "\n",
    "pyplot.gray()\n",
    "pyplot.matshow(digits.images[8])\n",
    "# pyplot.matshow(digits.images[16])\n",
    "pyplot.show()"
   ]
  },
  {
   "cell_type": "code",
   "execution_count": null,
   "metadata": {},
   "outputs": [],
   "source": [
    "import tensorflow as tf\n",
    "import tensorflow_datasets as tfds\n",
    "from matplotlib import pyplot\n",
    "\n",
    "# tensorflow中的手写数据集\n",
    "mnist_ds = tfds.load(\"mnist\", split=\"train\", shuffle_files=True)\n",
    "a = tfds.as_numpy(mnist_ds.take(10))\n",
    "\n",
    "pyplot.gray()\n",
    "pyplot.matshow(a)\n",
    "# pyplot.matshow(digits.images[16])\n",
    "pyplot.show()"
   ]
  }
 ],
 "metadata": {
  "kernelspec": {
   "display_name": "Python 3",
   "language": "python",
   "name": "python3"
  },
  "language_info": {
   "codemirror_mode": {
    "name": "ipython",
    "version": 3
   },
   "file_extension": ".py",
   "mimetype": "text/x-python",
   "name": "python",
   "nbconvert_exporter": "python",
   "pygments_lexer": "ipython3",
   "version": "3.11.4"
  }
 },
 "nbformat": 4,
 "nbformat_minor": 2
}
