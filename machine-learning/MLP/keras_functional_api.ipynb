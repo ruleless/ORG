{
 "cells": [
  {
   "cell_type": "markdown",
   "metadata": {},
   "source": [
    "## keras Functional API\n",
    "\n",
    "### 手写数字识别"
   ]
  },
  {
   "cell_type": "code",
   "execution_count": null,
   "metadata": {},
   "outputs": [],
   "source": [
    "import numpy as np\n",
    "import tensorflow as tf\n",
    "import keras\n",
    "from matplotlib import pyplot as plt\n",
    "\n",
    "# 加载训练数据和测试数据\n",
    "(orig_train_images, train_labels), (orig_test_images, test_labels) = keras.datasets.mnist.load_data()\n",
    "xx = np.array([])\n",
    "assert(orig_train_images.shape == (60000, 28, 28))\n",
    "assert(train_labels.shape == (60000,))\n",
    "assert(orig_test_images.shape == (10000, 28, 28))\n",
    "assert(test_labels.shape == (10000,))\n",
    "train_images = orig_train_images.reshape(60000, 28*28)\n",
    "train_images = train_images.astype(\"float32\") / 255\n",
    "test_images = orig_test_images.reshape(10000, 28*28)\n",
    "test_images = test_images.astype(\"float32\") / 255\n",
    "\n",
    "# 基于函数式API构建模型\n",
    "inputs = keras.Input((28*28,), name=\"inputs\")\n",
    "dense = keras.layers.Dense(512, activation=tf.nn.relu, name=\"dense\")(inputs)\n",
    "outputs = keras.layers.Dense(10, activation=tf.nn.softmax, name=\"outputs\")(dense)\n",
    "model = keras.Model(inputs, outputs)\n",
    "model.summary()\n",
    "keras.utils.plot_model(model)\n",
    "\n",
    "# 编译，即：为模型指定损失函数和优化器\n",
    "model.compile(optimizer=keras.optimizers.RMSprop(),\n",
    "              loss=keras.losses.sparse_categorical_crossentropy,\n",
    "              metrics=[\"accuracy\"])\n",
    "\n",
    "# 训练\n",
    "model.fit(train_images, train_labels, epochs=3, batch_size=128)\n",
    "\n",
    "# 计算模型性能\n",
    "print(model.evaluate(test_images, test_labels))"
   ]
  }
 ],
 "metadata": {
  "kernelspec": {
   "display_name": "base",
   "language": "python",
   "name": "python3"
  },
  "language_info": {
   "codemirror_mode": {
    "name": "ipython",
    "version": 3
   },
   "file_extension": ".py",
   "mimetype": "text/x-python",
   "name": "python",
   "nbconvert_exporter": "python",
   "pygments_lexer": "ipython3",
   "version": "3.11.4"
  }
 },
 "nbformat": 4,
 "nbformat_minor": 2
}
