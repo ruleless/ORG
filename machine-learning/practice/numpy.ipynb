{
 "cells": [
  {
   "cell_type": "markdown",
   "metadata": {},
   "source": [
    "## np.array\n",
    "\n",
    "`np.array` 是张量对象，它是numpy中最重要的数据结构。\n",
    "\n",
    "* 张量的阶：`ndim`\n",
    "* 张量的形状：`shape`"
   ]
  },
  {
   "cell_type": "code",
   "execution_count": null,
   "metadata": {},
   "outputs": [],
   "source": [
    "import numpy as np\n",
    "\n",
    "# 创建线性数据集\n",
    "num = 15\n",
    "features = np.array([np.random.randint(6, 21) for i in range(0, num)])\n",
    "labels = features*3 + 4\n",
    "noises = np.random.random([num]) * 4 - 2\n",
    "labels = labels + noises\n",
    "\n",
    "for x, y in zip(features, labels):\n",
    "    print(\"%d, %.2f\" % (x, y))"
   ]
  },
  {
   "cell_type": "markdown",
   "metadata": {},
   "source": [
    "### array creation\n",
    "\n",
    "见：[array creation routines](https://numpy.org/doc/stable/reference/routines.array-creation.html)"
   ]
  },
  {
   "cell_type": "code",
   "execution_count": null,
   "metadata": {},
   "outputs": [],
   "source": [
    "import numpy as np\n",
    "\n",
    "# 创建张量\n",
    "print(np.array([[1, 2], [3, 4]]))\n",
    "\n",
    "# 单位矩阵\n",
    "print(np.identity(3))\n",
    "print(np.eye(3)) # 与上面单位矩阵的相等\n",
    "\n",
    "# 全0张量\n",
    "print(np.zeros((2, 3)))\n",
    "\n",
    "# 全1张量\n",
    "print(np.ones(shape=(3, 2)))\n",
    "\n",
    "# 填充指定值的张量\n",
    "print(np.full((3, 4), 2))\n",
    "print(np.full((3, 4), np.arange(4.)))\n",
    "\n",
    "# 按序列生成向量\n",
    "print(np.arange(1, 5, 0.5))\n",
    "print(np.linspace(1, 5, num=5))\n",
    "\n",
    "# 提取对角线元素\n",
    "a = np.arange(8).reshape((2, 4))\n",
    "print(a, \"\\n\", np.diag(a, k=1))"
   ]
  },
  {
   "cell_type": "markdown",
   "metadata": {},
   "source": [
    "### 张量操作\n",
    "\n",
    "* 切片操作，如：`a[1:2,2:6]`\n",
    "* `reshape`\n",
    "* `resize`"
   ]
  },
  {
   "cell_type": "code",
   "execution_count": null,
   "metadata": {},
   "outputs": [],
   "source": [
    "import numpy as np\n",
    "\n",
    "# 切片\n",
    "a = np.arange(12).reshape(3, 4)\n",
    "print(a)\n",
    "print(a[1, :])\n",
    "print(a[1:, 1:])\n",
    "print()\n",
    "\n",
    "# reshape\n",
    "a = np.arange(6)\n",
    "b = a.reshape(2, 3) # 在不改变a的前提下返回a的新形状\n",
    "b[0, 1] = 9 # a中对应元素也会随之改变\n",
    "print(a)\n",
    "print(b)\n",
    "print(b.sum(axis=1))"
   ]
  },
  {
   "cell_type": "markdown",
   "metadata": {},
   "source": [
    "### 关于张量的线性运算\n",
    "\n",
    "见 [Linear algebra](https://numpy.org/doc/stable/reference/routines.linalg.html#)\n",
    "\n",
    "* TODO"
   ]
  }
 ],
 "metadata": {
  "kernelspec": {
   "display_name": "base",
   "language": "python",
   "name": "python3"
  },
  "language_info": {
   "codemirror_mode": {
    "name": "ipython",
    "version": 3
   },
   "file_extension": ".py",
   "mimetype": "text/x-python",
   "name": "python",
   "nbconvert_exporter": "python",
   "pygments_lexer": "ipython3",
   "version": "3.11.4"
  }
 },
 "nbformat": 4,
 "nbformat_minor": 2
}
