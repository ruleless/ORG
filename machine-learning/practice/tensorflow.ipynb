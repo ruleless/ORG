{
 "cells": [
  {
   "cell_type": "markdown",
   "metadata": {},
   "source": [
    "## 梯度带\n",
    "\n",
    "`GradientTape` 用于自动微分运算。\n",
    "\n",
    "它是一个python作用域，能够以计算图（有时也被称为“条带”）的形式“记录”在其中运行的张量运算。计算图可以获取任意输出相对于任意变量或变量集的梯度，这些变量或变量集都是 `tf.Variable` 类的实例。`tf.Varibale` 是用于保存可变状态的张量，比如：神经网络的权重就是 `tf.Variable` 的实例。"
   ]
  },
  {
   "cell_type": "code",
   "execution_count": null,
   "metadata": {},
   "outputs": [],
   "source": [
    "import tensorflow as tf\n",
    "\n",
    "x = tf.Variable(1.)\n",
    "with tf.GradientTape() as tape:\n",
    "    y = x*x + 3\n",
    "\n",
    "grad = tape.gradient(y, x)"
   ]
  }
 ],
 "metadata": {
  "kernelspec": {
   "display_name": "base",
   "language": "python",
   "name": "python3"
  },
  "language_info": {
   "codemirror_mode": {
    "name": "ipython",
    "version": 3
   },
   "file_extension": ".py",
   "mimetype": "text/x-python",
   "name": "python",
   "nbconvert_exporter": "python",
   "pygments_lexer": "ipython3",
   "version": "3.11.4"
  }
 },
 "nbformat": 4,
 "nbformat_minor": 2
}
