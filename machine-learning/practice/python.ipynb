{
 "cells": [
  {
   "cell_type": "markdown",
   "metadata": {},
   "source": [
    "### 列表生成式和生成器\n",
    "\n"
   ]
  },
  {
   "cell_type": "code",
   "execution_count": null,
   "metadata": {},
   "outputs": [],
   "source": [
    "# 列表生成式(list comprehensions)\n",
    "print(\"square: \", [i*i for i in range(1, 10) if i % 2 == 0])\n",
    "\n",
    "# A, B列表的笛卡尔积\n",
    "colors = [\"black\", \"white\"]\n",
    "sizes = [\"S\", \"M\", \"L\"]\n",
    "print(\"Cartesian Product: \", [\"%s-%s\"%(c, s) for c in colors for s in sizes])\n",
    "\n",
    "# 生成器(generator)\n",
    "list_generator = (i*i for i in range(1, 10) if i % 2 == 0)\n",
    "for i in list_generator:\n",
    "    print(i)\n",
    "\n",
    "# 生成器示例：杨辉三角\n",
    "def triangles(n):\n",
    "    layer = [1]\n",
    "    for i in range(0, n):\n",
    "        yield layer\n",
    "        new_layer = [1]\n",
    "        for a, b in zip(layer[:-1], layer[1:]):\n",
    "            new_layer.append(a + b)\n",
    "        new_layer.append(1)\n",
    "        layer = new_layer\n",
    "    return \"done\"\n",
    "\n",
    "for a in triangles(3):\n",
    "    print(a)"
   ]
  },
  {
   "cell_type": "markdown",
   "metadata": {},
   "source": [
    "### python序列\n",
    "\n",
    "从是否可变的角度出发，可将序列分为：\n",
    "\n",
    "* 可变序列，如：list, array.array等\n",
    "* 不可变序列，如：tuple, namedtuple等\n",
    "\n",
    "从内存模型出发，可将序列分为：\n",
    "\n",
    "* 只能存储基础类型（primitive type）的扁平序列，如：str, bytes, bytearray, memoryview, array.array等\n",
    "* 可以存储任何类型的容器序列，如：list, tuple，collections.deque"
   ]
  },
  {
   "cell_type": "markdown",
   "metadata": {},
   "source": [
    "#### 元组\n",
    "\n",
    "tuple除可用作不可变的列表外，还可用作没有字段名的记录。"
   ]
  },
  {
   "cell_type": "code",
   "execution_count": null,
   "metadata": {},
   "outputs": [],
   "source": [
    "# 将元组用作记录\n",
    "peaple = [(\"zhangsan\", 21), (\"lisi\", 35), (\"wangwu\", 43)]\n",
    "for r in peaple:\n",
    "    print(\"name: %s, age: %d\"%r)\n",
    "\n",
    "# tuple unpacking\n",
    "a, b, c, *rest, d = range(10) # 赋值场景的tuple unpacking，用*接收多余的元素\n",
    "print(a, b, c, rest, d)\n",
    "print(*rest) # 用*将可迭代对象拆开作为函数的参数\n",
    "\n",
    "# 将元组当作不可变的列表使用\n",
    "arr = (1, 2, 3)\n",
    "for n in reversed(arr):\n",
    "    print(n)"
   ]
  },
  {
   "cell_type": "markdown",
   "metadata": {},
   "source": [
    "#### 切片\n",
    "\n",
    "像 list, tuple, str 等这类序列类型都支持切片操作，切片的语法是：\n",
    "\n",
    "``` python\n",
    "arr[start:end:step]\n",
    "```"
   ]
  },
  {
   "cell_type": "code",
   "execution_count": null,
   "metadata": {},
   "outputs": [],
   "source": [
    "# 使用切片来取值\n",
    "a = [i for i in range(10)]\n",
    "print(a[5:8])\n",
    "\n",
    "# 通过切片更新列表\n",
    "a[5:8] = [100]\n",
    "print(a)\n",
    "\n",
    "# 通过切片删除列表元素\n",
    "del a[5:]\n",
    "print(a)"
   ]
  },
  {
   "cell_type": "markdown",
   "metadata": {},
   "source": [
    "#### 常见的序列操作\n",
    "\n",
    "下面是一些常用在序列类型上的操作：\n",
    "\n",
    "* `+` 用于拼接序列，该操作会生成一个新的序列\n",
    "* `*` 用于重复序列，该操作会生成一个新的序列\n",
    "* `+=` 会就地拼接序列\n",
    "* `sort` 给序列就地排序，返回值为None\n",
    "* `sorted` 该函数是一个内置函数，它将返回一个新的序列"
   ]
  },
  {
   "cell_type": "code",
   "execution_count": 74,
   "metadata": {},
   "outputs": [
    {
     "name": "stdout",
     "output_type": "stream",
     "text": [
      "zhangsan, 21\n",
      "lisi, 35\n",
      "wangwu, 43\n",
      "\n",
      "zhangsan, 21\n",
      "lisi, 35\n",
      "wangwu, 43\n",
      "\n",
      "1\n",
      "[('zhangsan', 21), ('laoliu', 27), ('lisi', 35), ('wangwu', 43)]\n"
     ]
    }
   ],
   "source": [
    "# 给序列排序\n",
    "peaple = [(\"zhangsan\", 21), (\"lisi\", 35), (\"wangwu\", 43)]\n",
    "peaple.sort(key=lambda r : r[1])\n",
    "for r in peaple:\n",
    "    print(\"%s, %d\"%r)\n",
    "print()\n",
    "\n",
    "for r in sorted(peaple, key=lambda r : r[1]):\n",
    "    print(\"%s, %d\"%r)\n",
    "print()\n",
    "\n",
    "# 使用bisect来进行二分查找\n",
    "import bisect\n",
    "\n",
    "offset = bisect.bisect(peaple, 28, key=lambda r:r[1])\n",
    "print(offset)\n",
    "\n",
    "# 使用insort来插入新的元素\n",
    "bisect.insort(peaple, (\"laoliu\", 27), key=lambda r:r[1])\n",
    "print(peaple)"
   ]
  },
  {
   "cell_type": "code",
   "execution_count": null,
   "metadata": {},
   "outputs": [],
   "source": [
    "import collections\n",
    "from array import array\n",
    "\n",
    "arr = array(\"B\", range(48, 58))\n",
    "print([chr(b) for b in arr])"
   ]
  }
 ],
 "metadata": {
  "kernelspec": {
   "display_name": "base",
   "language": "python",
   "name": "python3"
  },
  "language_info": {
   "codemirror_mode": {
    "name": "ipython",
    "version": 3
   },
   "file_extension": ".py",
   "mimetype": "text/x-python",
   "name": "python",
   "nbconvert_exporter": "python",
   "pygments_lexer": "ipython3",
   "version": "3.11.5"
  }
 },
 "nbformat": 4,
 "nbformat_minor": 2
}
