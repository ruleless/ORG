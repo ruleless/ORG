{
 "cells": [
  {
   "cell_type": "code",
   "execution_count": null,
   "metadata": {},
   "outputs": [],
   "source": [
    "# 列表生成式(list comprehensions)\n",
    "print([i*i for i in range(1, 10) if i % 2 == 0])\n",
    "\n",
    "# 列表生成器(list generator)\n",
    "list_generator = (i*i for i in range(1, 10) if i % 2 == 0)\n",
    "for i in list_generator:\n",
    "    print(i)\n",
    "\n",
    "# 复杂的列表生成器示例：杨辉三角\n",
    "def triangles(n):\n",
    "    layer = [1]\n",
    "    for i in range(0, n):\n",
    "        yield layer\n",
    "        new_layer = [1]\n",
    "        for a, b in zip(layer[:-1], layer[1:]):\n",
    "            new_layer.append(a + b)\n",
    "        new_layer.append(1)\n",
    "        layer = new_layer\n",
    "    return \"done\"\n",
    "\n",
    "for a in triangles(3):\n",
    "    print(a)"
   ]
  }
 ],
 "metadata": {
  "kernelspec": {
   "display_name": "base",
   "language": "python",
   "name": "python3"
  },
  "language_info": {
   "codemirror_mode": {
    "name": "ipython",
    "version": 3
   },
   "file_extension": ".py",
   "mimetype": "text/x-python",
   "name": "python",
   "nbconvert_exporter": "python",
   "pygments_lexer": "ipython3",
   "version": "3.11.4"
  }
 },
 "nbformat": 4,
 "nbformat_minor": 2
}
